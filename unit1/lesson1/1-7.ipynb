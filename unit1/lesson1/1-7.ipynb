{
 "cells": [
  {
   "cell_type": "code",
   "execution_count": 1,
   "metadata": {
    "collapsed": true
   },
   "outputs": [],
   "source": [
    "import csv"
   ]
  },
  {
   "cell_type": "code",
   "execution_count": 3,
   "metadata": {
    "collapsed": false
   },
   "outputs": [
    {
     "name": "stdout",
     "output_type": "stream",
     "text": [
      "['Variable', 'Description']\n",
      "['ISO3v10', 'Unique identifying 3 character country code from ISO']\n",
      "['Continent', 'The Global Rural-Urban Mapping Project, Version 1 (GRUMPv1) National Boundaries Dataset distinguishes state entities.']\n",
      "['Country', 'The Global Rural-Urban Mapping Project, Version 1 (GRUMPv1) National Boundaries Dataset categorizes state entities by continent.']\n",
      "['GeoRegion', 'The geographical regions used by the United Nations Statistics Division in its publications and databases. Each country is shown in one region only. Geo Regions refer to the UN\\x92s macro geographical regions, and correspond as closely as possible to continents. ']\n",
      "['GeoSubregion', 'Within macro geographical groupings, more detailed sub-regions are shown. From the UN: \\x93The assignment of countries or areas to specific groupings is for statistical convenience and does not imply any assumption regarding political or other affiliation of countries or territories by the United Nations.\\x94']\n",
      "['ElevationZone', 'Elevation data used to generate the low elevation coastal zones come from the SRTM3 Enhanced Global Map developed by ISCIENCES. The ISCIENCES digital elevation model was created using NASA\\x92s Jet Propulsion Laboratory Shuttle Radar Topography Mission data processed to 3 arc-seconds (SRTM3).']\n",
      "['Income Group', 'From the World Bank: \"Economies are divided according to 2010 GNI per capita, calculated using the World Bank Atlas method. The groups are: low income, $1,005 or less; lower middle income, $1,006 - $3,975; upper middle income, $3,976 - $12,275; and high income, $12,276 or more.\"']\n",
      "['Lending Category', 'From the World Bank: \"IDA countries are those that had a per capita income in 2010 of less than $1,175 and lack the financial ability to borrow from the International Bank for Reconstruction and Development (IBRD). IDA loans are deeply concessional\\x97interest-free loans and grants for programs aimed at boosting economic growth and improving living conditions. IBRD loans are noncessional. Blend countries are eligible for IDA loans because of their low per capita incomes but are also eligible for IBRD loans because they are financially creditworthy.\"']\n",
      "['UrbanRuralDesignation', 'The Global Rural-Urban Mapping Project, Version 1 (GRUMPv1) urban extent grid distinguishes urban and rural areas based on a combination of population counts (persons), settlement points, and the presence of Nighttime Lights . Areas are defined as urban where contiguous lighted cells from the Nighttime Lights or approximated urban extents based on buffered settlement points for which the total population is greater than 5,000 persons. This dataset is produced by the Columbia University Center for International Earth Science Information Network (CIESIN) in collaboration with the International Food Policy Research Institute (IFPRI), The World Bank, and Centro Internacional de Agricultura Tropical (CIAT)']\n",
      "['Population1990', 'Population counts in low elevation zones in the year 1990 as described by GRUMPv1 input estimates allocated into 3 arc second grid cells']\n",
      "['Population2000', 'Population counts in low elevation zones in the year 2000 as described by GRUMPv1 input estimates allocated into 3 arc second grid cells']\n",
      "['Population2010', 'Population counts in low elevation zones in the year 2010 derived from the application of United Nations 2000-2010 urban and rural growth rates to year 2000 population data from GRUMPv1 ( see documentation for full description of methodologies )']\n",
      "['Population2100', 'Extrapolated population counts in low elevation zones in the year 2100 as derived from the application of a calculated 100 year growth rate from IIASA GGI Downscaled Spatially Explicit Socio-Economic Scenario Data ( see documentation for full description of methodologies )']\n",
      "['LandArea', 'Land Areas in square kilometers']\n",
      "['PercentofCountryPopulation1990', 'Percent of total country population year 1990']\n",
      "['PercentofCountryPopulation2000', 'Percent of total country population year 2000']\n",
      "['PercentofCountryPopulation2010', 'Percent of total country population year 2010']\n",
      "['PercentofCountryPopulation2100', 'Percent of total country population year 2100']\n",
      "['PercentofCountryLandArea', 'Percent of total country land area']\n"
     ]
    }
   ],
   "source": [
    "with open('lecz-urban-rural-population-land-area-estimates_codebook.csv','r') as inputfile:\n",
    "    inputreader = csv.reader(inputfile)\n",
    "    for line in inputreader:\n",
    "        print(line)"
   ]
  },
  {
   "cell_type": "markdown",
   "metadata": {},
   "source": [
    "A dataFrame is a two-dimensional representation of data, much like a spreadsheet."
   ]
  },
  {
   "cell_type": "code",
   "execution_count": 4,
   "metadata": {
    "collapsed": true
   },
   "outputs": [],
   "source": [
    "import pandas"
   ]
  },
  {
   "cell_type": "code",
   "execution_count": 6,
   "metadata": {
    "collapsed": true
   },
   "outputs": [],
   "source": [
    "input_dataframe = pandas.read_csv('lecz-urban-rural-population-land-area-estimates_continent-90m.csv')"
   ]
  },
  {
   "cell_type": "code",
   "execution_count": 7,
   "metadata": {
    "collapsed": false
   },
   "outputs": [
    {
     "data": {
      "text/plain": [
       "0             Africa\n",
       "1             Africa\n",
       "2             Africa\n",
       "3             Africa\n",
       "4             Africa\n",
       "5             Africa\n",
       "6             Africa\n",
       "7             Africa\n",
       "8             Africa\n",
       "9             Africa\n",
       "10            Africa\n",
       "11            Africa\n",
       "12            Africa\n",
       "13            Africa\n",
       "14            Africa\n",
       "15            Africa\n",
       "16            Africa\n",
       "17            Africa\n",
       "18            Africa\n",
       "19            Africa\n",
       "20              Asia\n",
       "21              Asia\n",
       "22              Asia\n",
       "23              Asia\n",
       "24              Asia\n",
       "25              Asia\n",
       "26              Asia\n",
       "27              Asia\n",
       "28              Asia\n",
       "29              Asia\n",
       "           ...      \n",
       "90     North America\n",
       "91     North America\n",
       "92     North America\n",
       "93     North America\n",
       "94     North America\n",
       "95     North America\n",
       "96     North America\n",
       "97     North America\n",
       "98     North America\n",
       "99     North America\n",
       "100    South America\n",
       "101    South America\n",
       "102    South America\n",
       "103    South America\n",
       "104    South America\n",
       "105    South America\n",
       "106    South America\n",
       "107    South America\n",
       "108    South America\n",
       "109    South America\n",
       "110    South America\n",
       "111    South America\n",
       "112    South America\n",
       "113    South America\n",
       "114    South America\n",
       "115    South America\n",
       "116    South America\n",
       "117    South America\n",
       "118    South America\n",
       "119    South America\n",
       "Name: Continent, dtype: object"
      ]
     },
     "execution_count": 7,
     "metadata": {},
     "output_type": "execute_result"
    }
   ],
   "source": [
    "input_dataframe['Continent']"
   ]
  },
  {
   "cell_type": "code",
   "execution_count": 9,
   "metadata": {
    "collapsed": false
   },
   "outputs": [
    {
     "data": {
      "text/html": [
       "<div>\n",
       "<table border=\"1\" class=\"dataframe\">\n",
       "  <thead>\n",
       "    <tr style=\"text-align: right;\">\n",
       "      <th></th>\n",
       "      <th>Continent</th>\n",
       "      <th>ElevationZone</th>\n",
       "      <th>UrbanRuralDesignation</th>\n",
       "      <th>Population1990</th>\n",
       "      <th>Population2000</th>\n",
       "      <th>Population2010</th>\n",
       "      <th>Population2100</th>\n",
       "      <th>LandArea</th>\n",
       "    </tr>\n",
       "  </thead>\n",
       "  <tbody>\n",
       "    <tr>\n",
       "      <th>0</th>\n",
       "      <td>Africa</td>\n",
       "      <td>Elevations &gt; 20m or Non-Contiguous</td>\n",
       "      <td>Rural</td>\n",
       "      <td>333302081</td>\n",
       "      <td>418265923</td>\n",
       "      <td>530184094</td>\n",
       "      <td>1249908321</td>\n",
       "      <td>23749644</td>\n",
       "    </tr>\n",
       "    <tr>\n",
       "      <th>1</th>\n",
       "      <td>Africa</td>\n",
       "      <td>Elevations &gt; 20m or Non-Contiguous</td>\n",
       "      <td>Urban</td>\n",
       "      <td>157846329</td>\n",
       "      <td>210381843</td>\n",
       "      <td>266776037</td>\n",
       "      <td>504662423</td>\n",
       "      <td>204719</td>\n",
       "    </tr>\n",
       "    <tr>\n",
       "      <th>2</th>\n",
       "      <td>Africa</td>\n",
       "      <td>Elevations Less Than or Equal To 10m</td>\n",
       "      <td>Rural</td>\n",
       "      <td>18167003</td>\n",
       "      <td>22569516</td>\n",
       "      <td>28154645</td>\n",
       "      <td>76368900</td>\n",
       "      <td>172460</td>\n",
       "    </tr>\n",
       "    <tr>\n",
       "      <th>3</th>\n",
       "      <td>Africa</td>\n",
       "      <td>Elevations Less Than or Equal To 10m</td>\n",
       "      <td>Urban</td>\n",
       "      <td>22412955</td>\n",
       "      <td>28679117</td>\n",
       "      <td>36746774</td>\n",
       "      <td>94042536</td>\n",
       "      <td>13838</td>\n",
       "    </tr>\n",
       "    <tr>\n",
       "      <th>4</th>\n",
       "      <td>Africa</td>\n",
       "      <td>Elevations Less Than or Equal To 12m</td>\n",
       "      <td>Rural</td>\n",
       "      <td>20569411</td>\n",
       "      <td>25576481</td>\n",
       "      <td>31957186</td>\n",
       "      <td>85839163</td>\n",
       "      <td>202456</td>\n",
       "    </tr>\n",
       "    <tr>\n",
       "      <th>5</th>\n",
       "      <td>Africa</td>\n",
       "      <td>Elevations Less Than or Equal To 12m</td>\n",
       "      <td>Urban</td>\n",
       "      <td>25761403</td>\n",
       "      <td>32968917</td>\n",
       "      <td>42205337</td>\n",
       "      <td>105920405</td>\n",
       "      <td>16035</td>\n",
       "    </tr>\n",
       "  </tbody>\n",
       "</table>\n",
       "</div>"
      ],
      "text/plain": [
       "  Continent                          ElevationZone UrbanRuralDesignation  \\\n",
       "0    Africa    Elevations > 20m or Non-Contiguous                  Rural   \n",
       "1    Africa    Elevations > 20m or Non-Contiguous                  Urban   \n",
       "2    Africa  Elevations Less Than or Equal To 10m                  Rural   \n",
       "3    Africa  Elevations Less Than or Equal To 10m                  Urban   \n",
       "4    Africa  Elevations Less Than or Equal To 12m                  Rural   \n",
       "5    Africa  Elevations Less Than or Equal To 12m                  Urban   \n",
       "\n",
       "   Population1990  Population2000  Population2010  Population2100  LandArea  \n",
       "0       333302081       418265923       530184094      1249908321  23749644  \n",
       "1       157846329       210381843       266776037       504662423    204719  \n",
       "2        18167003        22569516        28154645        76368900    172460  \n",
       "3        22412955        28679117        36746774        94042536     13838  \n",
       "4        20569411        25576481        31957186        85839163    202456  \n",
       "5        25761403        32968917        42205337       105920405     16035  "
      ]
     },
     "execution_count": 9,
     "metadata": {},
     "output_type": "execute_result"
    }
   ],
   "source": [
    "input_dataframe[0:6]"
   ]
  },
  {
   "cell_type": "code",
   "execution_count": null,
   "metadata": {
    "collapsed": true
   },
   "outputs": [],
   "source": []
  }
 ],
 "metadata": {
  "kernelspec": {
   "display_name": "Python 2",
   "language": "python",
   "name": "python2"
  },
  "language_info": {
   "codemirror_mode": {
    "name": "ipython",
    "version": 2
   },
   "file_extension": ".py",
   "mimetype": "text/x-python",
   "name": "python",
   "nbconvert_exporter": "python",
   "pygments_lexer": "ipython2",
   "version": "2.7.10"
  }
 },
 "nbformat": 4,
 "nbformat_minor": 0
}
